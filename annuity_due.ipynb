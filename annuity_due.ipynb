{
 "cells": [
  {
   "cell_type": "code",
   "execution_count": 1,
   "id": "f3cd26ed-2507-427b-8021-95c795c8fec7",
   "metadata": {},
   "outputs": [],
   "source": [
    "import numpy as np\n",
    "\n",
    "pmt = 1\n",
    "r = 0.1\n",
    "n = 20"
   ]
  },
  {
   "cell_type": "markdown",
   "id": "bc3fa218-fc2f-4c59-8d09-b07e60e30115",
   "metadata": {},
   "source": [
    "#### Ordinary annuity\n",
    "\n",
    "Equal payments made at end of period"
   ]
  },
  {
   "cell_type": "code",
   "execution_count": 2,
   "id": "f7e92cbc-c75b-43eb-ab98-e399d4565cfa",
   "metadata": {},
   "outputs": [
    {
     "data": {
      "text/plain": [
       "8.513563719758565"
      ]
     },
     "execution_count": 2,
     "metadata": {},
     "output_type": "execute_result"
    }
   ],
   "source": [
    "value = pmt * (1 - (1 + r) ** (-n)) / r\n",
    "value"
   ]
  },
  {
   "cell_type": "code",
   "execution_count": 3,
   "id": "b2f808fd-b1d9-40de-93ee-5bfe73edcbc5",
   "metadata": {},
   "outputs": [
    {
     "data": {
      "text/plain": [
       "8.513563719758556"
      ]
     },
     "execution_count": 3,
     "metadata": {},
     "output_type": "execute_result"
    }
   ],
   "source": [
    "value = (pmt * (1 + r) ** (- np.arange(1, n + 1))).sum(axis=0)\n",
    "value"
   ]
  },
  {
   "cell_type": "markdown",
   "id": "6e2717f4-536c-45ab-b73c-f44de7ac4818",
   "metadata": {},
   "source": [
    "#### Annuity due\n",
    "Equal payments made at start of period"
   ]
  },
  {
   "cell_type": "code",
   "execution_count": 4,
   "id": "7363da7e-3ca7-430a-9e07-49a7a7967a0d",
   "metadata": {},
   "outputs": [
    {
     "data": {
      "text/plain": [
       "9.364920091734422"
      ]
     },
     "execution_count": 4,
     "metadata": {},
     "output_type": "execute_result"
    }
   ],
   "source": [
    "value = (1 + r) * pmt * (1 - (1 + r) ** (-n)) / r\n",
    "value"
   ]
  },
  {
   "cell_type": "code",
   "execution_count": 5,
   "id": "df49d610-1d0a-401d-9372-35e57ddb305d",
   "metadata": {},
   "outputs": [
    {
     "data": {
      "text/plain": [
       "9.364920091734414"
      ]
     },
     "execution_count": 5,
     "metadata": {},
     "output_type": "execute_result"
    }
   ],
   "source": [
    "value = (pmt * (1 + r) ** (- np.arange(0, n))).sum(axis=0)\n",
    "value"
   ]
  }
 ],
 "metadata": {
  "kernelspec": {
   "display_name": "Python 3",
   "language": "python",
   "name": "python3"
  },
  "language_info": {
   "codemirror_mode": {
    "name": "ipython",
    "version": 3
   },
   "file_extension": ".py",
   "mimetype": "text/x-python",
   "name": "python",
   "nbconvert_exporter": "python",
   "pygments_lexer": "ipython3",
   "version": "3.8.6"
  }
 },
 "nbformat": 4,
 "nbformat_minor": 5
}
